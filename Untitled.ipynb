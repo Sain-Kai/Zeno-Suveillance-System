{
 "cells": [
  {
   "cell_type": "code",
   "execution_count": 1,
   "id": "7cd72488-d282-4239-8c1c-7515f38c676f",
   "metadata": {},
   "outputs": [
    {
     "ename": "ModuleNotFoundError",
     "evalue": "No module named 'openvino.tools.pot'",
     "output_type": "error",
     "traceback": [
      "\u001b[1;31m---------------------------------------------------------------------------\u001b[0m",
      "\u001b[1;31mModuleNotFoundError\u001b[0m                       Traceback (most recent call last)",
      "Cell \u001b[1;32mIn[1], line 1\u001b[0m\n\u001b[1;32m----> 1\u001b[0m \u001b[38;5;28;01mfrom\u001b[39;00m \u001b[38;5;21;01mopenvino\u001b[39;00m\u001b[38;5;21;01m.\u001b[39;00m\u001b[38;5;21;01mtools\u001b[39;00m\u001b[38;5;21;01m.\u001b[39;00m\u001b[38;5;21;01mpot\u001b[39;00m \u001b[38;5;28;01mimport\u001b[39;00m load_config,create_pipeline,optimize,save_model\n\u001b[0;32m      2\u001b[0m config_path\u001b[38;5;241m=\u001b[39m \u001b[38;5;124mr\u001b[39m\u001b[38;5;124m\"\u001b[39m\u001b[38;5;124mF:/RNN based Object detection and Anomaly Classification surveillance System/calibration.yaml\u001b[39m\u001b[38;5;124m\"\u001b[39m\n\u001b[0;32m      3\u001b[0m config\u001b[38;5;241m=\u001b[39mload_config(config_path)\n",
      "\u001b[1;31mModuleNotFoundError\u001b[0m: No module named 'openvino.tools.pot'"
     ]
    }
   ],
   "source": [
    "from openvino.tools.pot import load_config,create_pipeline,optimize,save_model\n",
    "config_path= r\"F:/RNN based Object detection and Anomaly Classification surveillance System/calibration.yaml\"\n",
    "config=load_config(config_path)\n",
    "pipeline=create_pipeline(config)\n",
    "compressed_model=optimize(config,pipeline)\n",
    "save_mode(compressed_model,save_path=r\"F:/RNN based Object detection and Anomaly Classification surveillance System/yolo11n-obb_int8_openvino_model\")"
   ]
  },
  {
   "cell_type": "code",
   "execution_count": null,
   "id": "78e9ab87-00be-4a06-b9b8-3616a53661bf",
   "metadata": {},
   "outputs": [],
   "source": []
  }
 ],
 "metadata": {
  "kernelspec": {
   "display_name": "Python [conda env:base] *",
   "language": "python",
   "name": "conda-base-py"
  },
  "language_info": {
   "codemirror_mode": {
    "name": "ipython",
    "version": 3
   },
   "file_extension": ".py",
   "mimetype": "text/x-python",
   "name": "python",
   "nbconvert_exporter": "python",
   "pygments_lexer": "ipython3",
   "version": "3.12.7"
  }
 },
 "nbformat": 4,
 "nbformat_minor": 5
}
