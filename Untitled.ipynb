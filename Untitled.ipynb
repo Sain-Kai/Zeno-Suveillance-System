{
 "cells": [
  {
   "cell_type": "code",
   "execution_count": 4,
   "id": "7cd72488-d282-4239-8c1c-7515f38c676f",
   "metadata": {},
   "outputs": [
    {
     "name": "stdout",
     "output_type": "stream",
     "text": [
      "Ultralytics 8.3.196  Python-3.12.7 torch-2.8.0+cpu CPU (Intel Core i5-8250U 1.60GHz)\n",
      "YOLO11n-obb summary (fused): 109 layers, 2,656,648 parameters, 0 gradients, 6.6 GFLOPs\n",
      "\n",
      "\u001b[34m\u001b[1mPyTorch:\u001b[0m starting from 'yolo11n-obb.pt' with input shape (1, 3, 1024, 1024) BCHW and output shape(s) (1, 20, 21504) (5.5 MB)\n",
      "\n",
      "\u001b[34m\u001b[1mONNX:\u001b[0m starting export with onnx 1.19.0 opset 17...\n",
      "\u001b[34m\u001b[1mONNX:\u001b[0m slimming with onnxslim 0.1.68...\n",
      "\u001b[34m\u001b[1mONNX:\u001b[0m export success  3.7s, saved as 'yolo11n-obb.onnx' (10.3 MB)\n",
      "\n",
      "Export complete (4.8s)\n",
      "Results saved to \u001b[1mF:\\RNN based Object detection and Anomaly Classification surveillance System\u001b[0m\n",
      "Predict:         yolo predict task=obb model=yolo11n-obb.onnx imgsz=1024  \n",
      "Validate:        yolo val task=obb model=yolo11n-obb.onnx imgsz=1024 data=runs/DOTAv1-ms.yaml  \n",
      "Visualize:       https://netron.app\n"
     ]
    },
    {
     "data": {
      "text/plain": [
       "'yolo11n-obb.onnx'"
      ]
     },
     "execution_count": 4,
     "metadata": {},
     "output_type": "execute_result"
    }
   ],
   "source": [
    "from ultralytics import YOLO\n",
    "model=YOLO(\"yolo11n-obb.pt\")\n",
    "model.export(format=\"onnx\",dynamic=True,opset=17)"
   ]
  },
  {
   "cell_type": "code",
   "execution_count": null,
   "id": "78e9ab87-00be-4a06-b9b8-3616a53661bf",
   "metadata": {},
   "outputs": [],
   "source": []
  }
 ],
 "metadata": {
  "kernelspec": {
   "display_name": "Python [conda env:base] *",
   "language": "python",
   "name": "conda-base-py"
  },
  "language_info": {
   "codemirror_mode": {
    "name": "ipython",
    "version": 3
   },
   "file_extension": ".py",
   "mimetype": "text/x-python",
   "name": "python",
   "nbconvert_exporter": "python",
   "pygments_lexer": "ipython3",
   "version": "3.12.7"
  }
 },
 "nbformat": 4,
 "nbformat_minor": 5
}
