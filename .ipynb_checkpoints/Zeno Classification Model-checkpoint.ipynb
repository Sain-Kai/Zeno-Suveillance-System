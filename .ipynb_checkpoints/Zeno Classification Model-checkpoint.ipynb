{
 "cells": [
  {
   "cell_type": "code",
   "execution_count": null,
   "id": "ee967083-8299-41ba-bedb-162ddabdad6f",
   "metadata": {},
   "outputs": [],
   "source": [
    "from ultralytics import YOLO\n",
    "import time"
   ]
  },
  {
   "cell_type": "code",
   "execution_count": null,
   "id": "3c58f58f-f3d7-4a23-8fa4-5ce3be8a8c3f",
   "metadata": {},
   "outputs": [],
   "source": [
    "ZenoC = YOLO(\"yolo11n-obb.pt\")\n",
    "start =time.time()\n",
    "test = ZenoC(\"Akshay Kumar_0.jpg\",imgsz=320, workers =8)\n",
    "end = time.time()\n",
    "test[0].show()\n",
    "print(f\"Total Time:{end-start:.3f} seconds\")"
   ]
  },
  {
   "cell_type": "markdown",
   "id": "23ec4faa-df28-46dd-b640-db1c8139bbfd",
   "metadata": {},
   "source": [
    "image 1/1 F:\\RNN based Object detection and Anomaly Classification surveillance System\\Akshay Kumar_0.jpg: 320x224 (no detections), 34.2ms\n",
    "Speed: 0.9ms preprocess, 34.2ms inference, 0.6ms postprocess per image at shape (1, 3, 320, 224)\n",
    "Total Time:0.120 second"
   ]
  },
  {
   "cell_type": "code",
   "execution_count": null,
   "id": "273eda45-0e42-440e-8ddd-0accd44a3ace",
   "metadata": {},
   "outputs": [],
   "source": []
  },
  {
   "cell_type": "code",
   "execution_count": null,
   "id": "82d0f7fd-a7a0-40ea-9cd2-6a1bc06d4813",
   "metadata": {},
   "outputs": [],
   "source": []
  }
 ],
 "metadata": {
  "kernelspec": {
   "display_name": "Python [conda env:base] *",
   "language": "python",
   "name": "conda-base-py"
  },
  "language_info": {
   "codemirror_mode": {
    "name": "ipython",
    "version": 3
   },
   "file_extension": ".py",
   "mimetype": "text/x-python",
   "name": "python",
   "nbconvert_exporter": "python",
   "pygments_lexer": "ipython3",
   "version": "3.12.7"
  }
 },
 "nbformat": 4,
 "nbformat_minor": 5
}
