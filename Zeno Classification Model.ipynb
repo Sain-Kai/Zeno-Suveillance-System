{
 "cells": [
  {
   "cell_type": "code",
   "execution_count": 20,
   "id": "ee967083-8299-41ba-bedb-162ddabdad6f",
   "metadata": {},
   "outputs": [],
   "source": [
    "from ultralytics import YOLO\n",
    "import time"
   ]
  },
  {
   "cell_type": "code",
   "execution_count": 28,
   "id": "258d853b-199c-4f3f-ab5f-1801d99270d0",
   "metadata": {},
   "outputs": [
    {
     "name": "stdout",
     "output_type": "stream",
     "text": [
      "\n",
      "image 1/1 F:\\RNN based Object detection and Anomaly Classification surveillance System\\Akshay Kumar_0.jpg: 320x224 (no detections), 54.2ms\n",
      "Speed: 1.4ms preprocess, 54.2ms inference, 0.9ms postprocess per image at shape (1, 3, 320, 224)\n",
      "Total Time:0.131 seconds\n"
     ]
    }
   ],
   "source": [
    "ZenoC = YOLO(\"yolo11n-obb.pt\")\n",
    "start =time.time()\n",
    "test = ZenoC(\"Akshay Kumar_0.jpg\",imgsz=320, workers =8)\n",
    "end = time.time()\n",
    "test[0].show()\n",
    "print(f\"Total Time:{end-start:.3f} seconds\")"
   ]
  },
  {
   "cell_type": "code",
   "execution_count": null,
   "id": "4cc40d68-9a67-431a-83ed-28bd86176785",
   "metadata": {},
   "outputs": [],
   "source": []
  },
  {
   "cell_type": "code",
   "execution_count": null,
   "id": "273eda45-0e42-440e-8ddd-0accd44a3ace",
   "metadata": {},
   "outputs": [],
   "source": []
  }
 ],
 "metadata": {
  "kernelspec": {
   "display_name": "Python [conda env:base] *",
   "language": "python",
   "name": "conda-base-py"
  },
  "language_info": {
   "codemirror_mode": {
    "name": "ipython",
    "version": 3
   },
   "file_extension": ".py",
   "mimetype": "text/x-python",
   "name": "python",
   "nbconvert_exporter": "python",
   "pygments_lexer": "ipython3",
   "version": "3.12.7"
  }
 },
 "nbformat": 4,
 "nbformat_minor": 5
}
